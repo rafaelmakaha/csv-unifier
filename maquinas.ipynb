{
 "cells": [
  {
   "cell_type": "code",
   "execution_count": 10,
   "metadata": {},
   "outputs": [],
   "source": [
    "import pandas as pd\n",
    "import glob\n",
    "import csv\n",
    "import os"
   ]
  },
  {
   "cell_type": "code",
   "execution_count": 11,
   "metadata": {},
   "outputs": [],
   "source": [
    "def get_description(maquina):\n",
    "    df = pd.read_csv(maquina)\n",
    "    return df.iloc[0]['Descrição']\n",
    "        \n",
    "def check_names(nome_lista, maquina_atual):\n",
    "    return nome_lista in maquina_atual\n",
    "\n",
    "def filter_name(nome_lista):\n",
    "    return nome_lista.replace(\";\", \"\")"
   ]
  },
  {
   "cell_type": "code",
   "execution_count": 17,
   "metadata": {
    "scrolled": true
   },
   "outputs": [],
   "source": [
    "def listagem_maquinas():\n",
    "    maquinas = glob.glob('maquinas/*.csv')\n",
    "    nomes = pd.read_csv('nomes/nomes_maquinas.csv')\n",
    "    with open('lista.csv', 'w') as csvfile:\n",
    "        filewriter = csv.writer(\n",
    "            csvfile, \n",
    "            lineterminator='\\n',\n",
    "            delimiter=',',\n",
    "            quotechar='|', \n",
    "            quoting=csv.QUOTE_MINIMAL\n",
    "        )\n",
    "        filewriter.writerow(['Nome', 'Descricao'])\n",
    "\n",
    "        for i in range(nomes.shape[0]):\n",
    "            nome_puro = filter_name(nomes.iloc[i][0])\n",
    "\n",
    "            for j in range(len(maquinas)):\n",
    "                if check_names(nome_puro, maquinas[j]) == True:\n",
    "                    descricao = get_description(maquinas[j])\n",
    "                    filewriter.writerow([nome_puro,descricao])\n",
    "                    break\n",
    "            else:\n",
    "                descricao = \"nao exportado\"\n",
    "                filewriter.writerow([nome_puro,descricao])\n"
   ]
  },
  {
   "cell_type": "code",
   "execution_count": 42,
   "metadata": {},
   "outputs": [],
   "source": [
    "def adiciona_novas_colunas():\n",
    "    df = pd.read_csv('lista.csv')\n",
    "    df = df.drop(['Descricao'], axis=1)\n",
    "    df['Modelo'] = ''\n",
    "    df['Setor'] = ''\n",
    "    df['Sala'] = ''\n",
    "    df.to_csv('nova_lista.csv')"
   ]
  },
  {
   "cell_type": "code",
   "execution_count": 18,
   "metadata": {},
   "outputs": [],
   "source": []
  },
  {
   "cell_type": "code",
   "execution_count": 43,
   "metadata": {},
   "outputs": [],
   "source": [
    "adiciona_novas_colunas()"
   ]
  },
  {
   "cell_type": "code",
   "execution_count": null,
   "metadata": {},
   "outputs": [],
   "source": []
  },
  {
   "cell_type": "code",
   "execution_count": null,
   "metadata": {},
   "outputs": [],
   "source": []
  }
 ],
 "metadata": {
  "kernelspec": {
   "display_name": "Python 3",
   "language": "python",
   "name": "python3"
  },
  "language_info": {
   "codemirror_mode": {
    "name": "ipython",
    "version": 3
   },
   "file_extension": ".py",
   "mimetype": "text/x-python",
   "name": "python",
   "nbconvert_exporter": "python",
   "pygments_lexer": "ipython3",
   "version": "3.7.1"
  }
 },
 "nbformat": 4,
 "nbformat_minor": 2
}

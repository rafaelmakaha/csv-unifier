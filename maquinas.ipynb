{
 "cells": [
  {
   "cell_type": "code",
   "execution_count": null,
   "metadata": {},
   "outputs": [],
   "source": [
    "import pandas as pd\n",
    "import glob\n",
    "import csv\n",
    "import os"
   ]
  },
  {
   "cell_type": "code",
   "execution_count": null,
   "metadata": {},
   "outputs": [],
   "source": [
    "def get_description(maquina):\n",
    "    df = pd.read_csv(maquina)\n",
    "    return df.iloc[0]['Descrição']\n",
    "        \n",
    "def check_names(nome_lista, maquina_atual):\n",
    "    return nome_lista in maquina_atual\n",
    "\n",
    "def filter_name(nome_lista):\n",
    "    return nome_lista.replace(\";\", \"\")"
   ]
  },
  {
   "cell_type": "code",
   "execution_count": null,
   "metadata": {
    "scrolled": true
   },
   "outputs": [],
   "source": [
    "def listagem_maquinas():\n",
    "    # Lê todos os caminhos para os arquivos das máquinas\n",
    "    maquinas = glob.glob('maquinas/*.csv')\n",
    "    \n",
    "    # Lê a listagem de nomes das máquinas\n",
    "    nomes = pd.read_csv('nomes/nomes_maquinas.csv')\n",
    "    \n",
    "    # Cria arquivo de saida \n",
    "    with open('lista.csv', 'w', encoding='UTF-8') as csvfile:\n",
    "        filewriter = csv.writer(\n",
    "            csvfile, \n",
    "            lineterminator='\\n',\n",
    "            delimiter=',',\n",
    "            quotechar='|', \n",
    "            quoting=csv.QUOTE_MINIMAL\n",
    "        )\n",
    "        \n",
    "        # Cria colunas\n",
    "        filewriter.writerow(['Nome', 'Descricao'])\n",
    "\n",
    "        # Percorre o nome de todas as máquinas\n",
    "        for i in range(nomes.shape[0]):\n",
    "            \n",
    "            # Limpa o nome da máquina\n",
    "            nome_puro = filter_name(nomes.iloc[i][0])\n",
    "\n",
    "            # Procura a máquina nos arquivos individuais\n",
    "            for j in range(len(maquinas)):\n",
    "                \n",
    "                # Caso exista, adiciona a sua descrição\n",
    "                if check_names(nome_puro, maquinas[j]) == True:\n",
    "                    descricao = get_description(maquinas[j])\n",
    "                    filewriter.writerow([nome_puro,descricao])\n",
    "                    break\n",
    "                    \n",
    "            # Caso não exista, adiciona informação de não exportado\n",
    "            else:\n",
    "                descricao = \"nao exportado\"\n",
    "                filewriter.writerow([nome_puro,descricao])\n"
   ]
  },
  {
   "cell_type": "code",
   "execution_count": null,
   "metadata": {},
   "outputs": [],
   "source": [
    "def adiciona_novas_colunas():\n",
    "    df = pd.read_csv('lista.csv')\n",
    "    \n",
    "    # remove a coluna de Descrição\n",
    "    df = df.drop(['Descricao'], axis=1) \n",
    "    \n",
    "    # Adiciona as seguintes colunas\n",
    "    df['Patrimonio'] = 'Vazio'\n",
    "    df['Modelo'] = 'Vazio'\n",
    "    df['Setor'] = 'Vazio'\n",
    "    df['Sala'] = 'Vazio'\n",
    "    \n",
    "    df.to_csv('nova_lista.csv', index=False)"
   ]
  },
  {
   "cell_type": "code",
   "execution_count": null,
   "metadata": {},
   "outputs": [],
   "source": [
    "# def adiciona_informacoes(caminho):\n",
    "caminho = 'infos/Relatório de Microcomputadores agupados por UL (Endereço).csv'\n",
    "count =0\n",
    "\n",
    "def is_number(row):\n",
    "    try:\n",
    "        int(row[0])\n",
    "        return True\n",
    "    except ValueError:\n",
    "        return False\n",
    "\n",
    "cont = 0\n",
    "    \n",
    "# with open('teste.csv', 'w', encoding='utf-8') as csvfile:\n",
    "#     filewriter = csv.writer(\n",
    "#             csvfile, \n",
    "#             lineterminator='\\n',\n",
    "#             delimiter=',',\n",
    "#             quotechar='|', \n",
    "#             quoting=csv.QUOTE_MINIMAL\n",
    "#         )\n",
    "        \n",
    "with open(caminho, 'r', encoding='utf-8') as maquinas:\n",
    "    df = pd.read_csv('nova_lista.csv')\n",
    "    for row in maquinas:\n",
    "        index = 0\n",
    "        if 'U.A.:' in row:\n",
    "            setor = row[16:-16]\n",
    "            index = setor.find(' -')\n",
    "            setor = setor[:index]\n",
    "#                 print(setor)\n",
    "        if 'Endereço:' in row:\n",
    "            index = row.find('- ')\n",
    "            endereco = row[index+2:-13]\n",
    "            endereco = endereco.replace('SAFS QD2 LT3','')\n",
    "            if '(' in endereco:\n",
    "                index = endereco.find('(')\n",
    "                index2 = endereco.find(')')\n",
    "                setor = setor + \" \" + endereco[index:index2+1]\n",
    "#                 print(setor)\n",
    "\n",
    "            index = endereco.find('- ')\n",
    "            index2 = endereco.find(' ', index+7)\n",
    "            sala = endereco[index+2:index2]\n",
    "            sala = sala.replace('SALA ','')\n",
    "            sala = sala.replace(' (SALA','')\n",
    "#                 sala = \"\"\n",
    "#                 print(endereco)\n",
    "#                 print(endereco)\n",
    "#             print(sala)\n",
    "#                 print(\"\")\n",
    "\n",
    "\n",
    "        if '3000' in row:\n",
    "            index = row.find('3000')\n",
    "#                 print(index)\n",
    "            patrimonio = row[index:index+8]\n",
    "#                 print(patrimonio)\n",
    "            if not 'MODELO:' in row:\n",
    "                modelo = \"\"\n",
    "            else:\n",
    "                index = row.find('MODELO:')\n",
    "                index2 = row.find('-', index)\n",
    "                modelo = row[index+8:index2-1]\n",
    "#                 print(modelo)\n",
    "            \n",
    "            for i in range(df.shape[0]):\n",
    "                if patrimonio in df.iloc[i]['Nome']:\n",
    "                    df.at[i,'Patrimonio'] = patrimonio\n",
    "                    df.at[i,'Modelo'] = modelo\n",
    "                    df.at[i,'Setor'] = setor\n",
    "                    df.at[i,'Sala'] = sala\n",
    "                    print(df.iloc[i])\n",
    "                \n",
    "# df\n",
    "#     print(cont)\n",
    "df.to_csv('nova_lista.csv', index=False)"
   ]
  },
  {
   "cell_type": "code",
   "execution_count": null,
   "metadata": {},
   "outputs": [],
   "source": [
    "listagem_maquinas()"
   ]
  },
  {
   "cell_type": "code",
   "execution_count": null,
   "metadata": {},
   "outputs": [],
   "source": [
    "adiciona_novas_colunas()"
   ]
  },
  {
   "cell_type": "code",
   "execution_count": null,
   "metadata": {},
   "outputs": [],
   "source": [
    "df = pd.read_csv('nova_lista.csv')\n",
    "for i in range(df.shape[0]):\n",
    "    if '(DEPOSITO' in df.iloc[i]['Sala']:\n",
    "        novo = df.iloc[i]['Sala']\n",
    "        novo = novo.replace(' (DEPOSITO', '')\n",
    "        df.at[i,'Sala'] = novo\n",
    "df.to_csv('nova_lista.csv', index=False)"
   ]
  },
  {
   "cell_type": "code",
   "execution_count": null,
   "metadata": {},
   "outputs": [],
   "source": [
    "df = pd.read_csv('nova_lista.csv')\n",
    "df.iloc[0]['Sala']"
   ]
  }
 ],
 "metadata": {
  "kernelspec": {
   "display_name": "Python 3 (ipykernel)",
   "language": "python",
   "name": "python3"
  },
  "language_info": {
   "codemirror_mode": {
    "name": "ipython",
    "version": 3
   },
   "file_extension": ".py",
   "mimetype": "text/x-python",
   "name": "python",
   "nbconvert_exporter": "python",
   "pygments_lexer": "ipython3",
   "version": "3.9.12"
  }
 },
 "nbformat": 4,
 "nbformat_minor": 2
}

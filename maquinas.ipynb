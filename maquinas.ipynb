{
 "cells": [
  {
   "cell_type": "code",
   "execution_count": 164,
   "metadata": {},
   "outputs": [],
   "source": [
    "import pandas as pd\n",
    "import glob\n",
    "import csv\n",
    "import os"
   ]
  },
  {
   "cell_type": "code",
   "execution_count": 165,
   "metadata": {},
   "outputs": [],
   "source": [
    "maquinas = glob.glob('maquinas/*.csv')\n",
    "nomes = pd.read_csv('nomes/nomes_maquinas.csv')"
   ]
  },
  {
   "cell_type": "code",
   "execution_count": 166,
   "metadata": {},
   "outputs": [],
   "source": [
    "def get_description(maquina):\n",
    "    df = pd.read_csv(maquina)\n",
    "    return df.iloc[0]['Descrição']\n",
    "    \n",
    "def check_names(nome_lista, maquina_atual):\n",
    "    return nome_lista in maquina_atual\n",
    "\n",
    "def filter_name(nome_lista):\n",
    "    return nome_lista.replace(\";\", \"\")"
   ]
  },
  {
   "cell_type": "code",
   "execution_count": 188,
   "metadata": {
    "scrolled": true
   },
   "outputs": [],
   "source": [
    "if not os.path.isfile('./lista.csv'): # Caso o arquivo não exista, cria e adiciona o cabeçalho\n",
    "    with open('lista.csv', 'w') as csvfile:\n",
    "        filewriter = csv.writer(csvfile, delimiter=',',quotechar='|', quoting=csv.QUOTE_MINIMAL)\n",
    "        filewriter.writerow(['Nome', 'Descricao'])\n"
   ]
  },
  {
   "cell_type": "code",
   "execution_count": 189,
   "metadata": {},
   "outputs": [
    {
     "name": "stdout",
     "output_type": "stream",
     "text": [
      "0\n"
     ]
    }
   ],
   "source": [
    "i=0\n",
    "j=0\n",
    "with open('lista.csv', 'a') as csvfile:\n",
    "    filewriter = csv.writer(csvfile, delimiter=',',quotechar='|', quoting=csv.QUOTE_MINIMAL)\n",
    "    for i in range(nomes.shape[0]):\n",
    "        for j in range(len(maquinas)):\n",
    "            nome_puro = filter_name(nomes.iloc[i][0])\n",
    "            \n",
    "            if check_names(filter_name(nomes.iloc[i][0]), maquinas[j]) == True:\n",
    "                count += 1\n",
    "                descricao = get_description(maquinas[j])\n",
    "                filewriter.writerow([nome_puro,descricao])\n",
    "                break\n",
    "            else:\n",
    "                descricao = \"\"\n",
    "                filewriter.writerow([nome_puro,descricao])\n",
    "                break\n",
    "print(j)"
   ]
  },
  {
   "cell_type": "code",
   "execution_count": 176,
   "metadata": {},
   "outputs": [
    {
     "data": {
      "text/plain": [
       "'Itautec - Biblioteca - SE05'"
      ]
     },
     "execution_count": 176,
     "metadata": {},
     "output_type": "execute_result"
    }
   ],
   "source": [
    "get_description(maquinas[1])"
   ]
  },
  {
   "cell_type": "code",
   "execution_count": 185,
   "metadata": {},
   "outputs": [
    {
     "name": "stdout",
     "output_type": "stream",
     "text": [
      "entrei\n"
     ]
    }
   ],
   "source": [
    "if check_names(filter_name(nomes.iloc[0][0]), maquinas[1]) == True:\n",
    "    print(\"entrei\")"
   ]
  },
  {
   "cell_type": "code",
   "execution_count": null,
   "metadata": {},
   "outputs": [],
   "source": []
  }
 ],
 "metadata": {
  "kernelspec": {
   "display_name": "Python 3",
   "language": "python",
   "name": "python3"
  },
  "language_info": {
   "codemirror_mode": {
    "name": "ipython",
    "version": 3
   },
   "file_extension": ".py",
   "mimetype": "text/x-python",
   "name": "python",
   "nbconvert_exporter": "python",
   "pygments_lexer": "ipython3",
   "version": "3.7.1"
  }
 },
 "nbformat": 4,
 "nbformat_minor": 2
}
